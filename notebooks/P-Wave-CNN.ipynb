{
 "cells": [
  {
   "cell_type": "markdown",
   "metadata": {},
   "source": [
    "# 0. Import Required Libraries"
   ]
  },
  {
   "cell_type": "code",
   "execution_count": 1,
   "metadata": {},
   "outputs": [],
   "source": [
    "import torch\n",
    "from torch import nn\n",
    "import torch.nn.functional as F\n",
    "\n",
    "import numpy as np\n",
    "import sklearn\n",
    "import matplotlib.pyplot as plt\n",
    "import seaborn\n",
    "import h5py\n",
    "from lib.test import *\n",
    "from sklearn.metrics import accuracy_score\n",
    "\n",
    "import mlflow"
   ]
  },
  {
   "cell_type": "markdown",
   "metadata": {},
   "source": [
    "# 1. Define the CNN architecture"
   ]
  },
  {
   "cell_type": "code",
   "execution_count": 2,
   "metadata": {},
   "outputs": [],
   "source": [
    "class CNN(nn.Module):\n",
    "    def __init__(self):\n",
    "        super().__init__()\n",
    "        self.conv1 = nn.Conv1d(in_channels=1, out_channels=32, kernel_size=21, padding=10)\n",
    "        self.conv2 = nn.Conv1d(in_channels=32, out_channels=64, kernel_size=15, padding=7)\n",
    "        self.conv3 = nn.Conv1d(in_channels=64, out_channels=128, kernel_size=11, padding=5)\n",
    "        \n",
    "        self.batchnorm32 = nn.BatchNorm1d(num_features=32)\n",
    "        self.batchnorm64 = nn.BatchNorm1d(num_features=64)\n",
    "        self.batchnorm128 = nn.BatchNorm1d(num_features=128)\n",
    "        self.batchnorm512 = nn.BatchNorm1d(num_features=512)\n",
    "        \n",
    "        self.fc1 = nn.Linear(4736, 512)\n",
    "        self.fc2 = nn.Linear(512, 512)\n",
    "        self.fc3 = nn.Linear(512, 2)\n",
    "        \n",
    "        self.maxpool = nn.MaxPool1d(kernel_size=2, stride=2)     \n",
    "        \n",
    "        self.dropout2d = nn.Dropout2d(p=0.5)\n",
    "        self.dropout = nn.Dropout(p=0.5)\n",
    "    def forward(self, x):\n",
    "        x = self.conv1(x.unsqueeze(1))\n",
    "        x = F.relu(self.batchnorm32(x))\n",
    "        x = self.maxpool(x)\n",
    "        \n",
    "        x = self.conv2(x)\n",
    "        x = F.relu(self.batchnorm64(x))\n",
    "        x = self.maxpool(x)\n",
    "        \n",
    "        x = self.conv3(x)\n",
    "        x = F.relu(self.batchnorm128(x))\n",
    "        x = self.maxpool(x)\n",
    "        \n",
    "        # Flatten input for fully connected layers\n",
    "        x = x.view(x.shape[0], -1) \n",
    "        \n",
    "        x = self.dropout(self.fc1(x))\n",
    "        x = F.relu(self.batchnorm512(x))\n",
    "        \n",
    "        x = self.dropout(self.fc2(x))\n",
    "        x = F.relu(self.batchnorm512(x))\n",
    "        \n",
    "        x = F.log_softmax(self.fc3(x), dim=1)\n",
    "        return x"
   ]
  },
  {
   "cell_type": "markdown",
   "metadata": {},
   "source": [
    "# 2. Load the Data"
   ]
  },
  {
   "cell_type": "code",
   "execution_count": 3,
   "metadata": {},
   "outputs": [],
   "source": [
    "import h5py\n",
    "\n",
    "mixdata = h5py.File(\"../train/scsn_p_2000_2017_6sec_0.5r_pick_train_mix.hdf5\", \"r\")\n",
    "testdata = h5py.File(\"../test/scsn_p_2000_2017_6sec_0.5r_pick_test_mix.hdf5\", \"r\")"
   ]
  },
  {
   "cell_type": "code",
   "execution_count": 4,
   "metadata": {},
   "outputs": [
    {
     "name": "stdout",
     "output_type": "stream",
     "text": [
      "Wall time: 542 ms\n"
     ]
    }
   ],
   "source": [
    "%%time\n",
    "\n",
    "from torch.utils.data import DataLoader\n",
    "from lib.utils import split_trainset\n",
    "\n",
    "batch_size = 500\n",
    "\n",
    "train_size = 1 * 10 ** 5\n",
    "train_ratio = 0.8\n",
    "test_size = 1 * 10 ** 6\n",
    "\n",
    "# Load test data\n",
    "train_val_data = mixdata[\"X\"][:train_size]\n",
    "train_val_labels = mixdata[\"pwave\"][:train_size]\n",
    "\n",
    "trainset, valset = split_trainset(train_val_data, train_val_labels, train_ratio)"
   ]
  },
  {
   "cell_type": "code",
   "execution_count": 5,
   "metadata": {},
   "outputs": [
    {
     "name": "stdout",
     "output_type": "stream",
     "text": [
      "Wall time: 0 ns\n"
     ]
    }
   ],
   "source": [
    "%%time\n",
    "\n",
    "trainloader = DataLoader(trainset, batch_size=batch_size, shuffle=True)\n",
    "val_loader = DataLoader(valset, batch_size=batch_size, shuffle=True)"
   ]
  },
  {
   "cell_type": "code",
   "execution_count": 6,
   "metadata": {},
   "outputs": [],
   "source": [
    "if torch.cuda.is_available():\n",
    "    device = \"cuda\"\n",
    "else:\n",
    "    device = \"cpu\"  "
   ]
  },
  {
   "cell_type": "code",
   "execution_count": 7,
   "metadata": {},
   "outputs": [],
   "source": [
    "model = CNN()"
   ]
  },
  {
   "cell_type": "markdown",
   "metadata": {},
   "source": [
    "# 3. Add Multi-GPU Support to Model \n",
    "In order to run the model on multiple GPU's, we can use the nn.DataParallel layer. This layer requires that we move all tensors to the cuda:0 (the default gpu) before we can pass them through the network. "
   ]
  },
  {
   "cell_type": "code",
   "execution_count": 8,
   "metadata": {},
   "outputs": [],
   "source": [
    "def parallelize(model):\n",
    "    device_ids = [i for i in range(torch.cuda.device_count())]\n",
    "    model = torch.nn.DataParallel(model, device_ids=device_ids)\n",
    "    return model"
   ]
  },
  {
   "cell_type": "code",
   "execution_count": 9,
   "metadata": {},
   "outputs": [
    {
     "data": {
      "text/plain": [
       "DataParallel(\n",
       "  (module): CNN(\n",
       "    (conv1): Conv1d(1, 32, kernel_size=(21,), stride=(1,), padding=(10,))\n",
       "    (conv2): Conv1d(32, 64, kernel_size=(15,), stride=(1,), padding=(7,))\n",
       "    (conv3): Conv1d(64, 128, kernel_size=(11,), stride=(1,), padding=(5,))\n",
       "    (batchnorm32): BatchNorm1d(32, eps=1e-05, momentum=0.1, affine=True, track_running_stats=True)\n",
       "    (batchnorm64): BatchNorm1d(64, eps=1e-05, momentum=0.1, affine=True, track_running_stats=True)\n",
       "    (batchnorm128): BatchNorm1d(128, eps=1e-05, momentum=0.1, affine=True, track_running_stats=True)\n",
       "    (batchnorm512): BatchNorm1d(512, eps=1e-05, momentum=0.1, affine=True, track_running_stats=True)\n",
       "    (fc1): Linear(in_features=4736, out_features=512, bias=True)\n",
       "    (fc2): Linear(in_features=512, out_features=512, bias=True)\n",
       "    (fc3): Linear(in_features=512, out_features=2, bias=True)\n",
       "    (maxpool): MaxPool1d(kernel_size=2, stride=2, padding=0, dilation=1, ceil_mode=False)\n",
       "    (dropout2d): Dropout2d(p=0.5)\n",
       "    (dropout): Dropout(p=0.5)\n",
       "  )\n",
       ")"
      ]
     },
     "execution_count": 9,
     "metadata": {},
     "output_type": "execute_result"
    }
   ],
   "source": [
    "if (device == \"cuda\"):\n",
    "    model = parallelize(model)\n",
    "model"
   ]
  },
  {
   "cell_type": "markdown",
   "metadata": {},
   "source": [
    "# 4. Define Loss Function and Optimizer\n",
    "Here we define the loss function and optimizer. For the loss function (criterion), we use the binary cross entropy with logits loss (BCEWithLogitsLoss). This function applies a sigmoid as well as calculates the cross entropy. "
   ]
  },
  {
   "cell_type": "code",
   "execution_count": 10,
   "metadata": {},
   "outputs": [],
   "source": [
    "from torch import optim\n",
    "\n",
    "lr = 0.001\n",
    "\n",
    "criterion = nn.NLLLoss()\n",
    "optimizer = optim.Adam(model.parameters(), lr=lr)"
   ]
  },
  {
   "cell_type": "markdown",
   "metadata": {},
   "source": [
    "# 5. Training and Validation"
   ]
  },
  {
   "cell_type": "code",
   "execution_count": 11,
   "metadata": {
    "scrolled": true
   },
   "outputs": [
    {
     "data": {
      "text/plain": [
       "<ActiveRun: info=<RunInfo: run_uuid='74eb699b935b4cc9b4f31339ec5ca170', experiment_id=0, name='', source_type=4, source_name='C:\\\\Users\\\\rober\\\\Miniconda3\\\\envs\\\\eew\\\\lib\\\\site-packages\\\\ipykernel_launcher.py', entry_point_name=None, user_id='unknown', status=1, start_time=1553478015213, end_time=None, source_version=None, lifecycle_stage='active', artifact_uri='.\\\\mlruns\\\\0\\\\74eb699b935b4cc9b4f31339ec5ca170\\\\artifacts'>, data=None>"
      ]
     },
     "execution_count": 11,
     "metadata": {},
     "output_type": "execute_result"
    }
   ],
   "source": [
    "mlflow.set_tracking_uri(\"file:.\\mlruns\")\n",
    "mlflow.start_run()"
   ]
  },
  {
   "cell_type": "code",
   "execution_count": 12,
   "metadata": {
    "scrolled": true
   },
   "outputs": [
    {
     "name": "stdout",
     "output_type": "stream",
     "text": [
      "Epoch [    1/   30] | train loss: 0.0717 | validation loss: 0.2030 | validation accuracy: 98.1850%\n",
      "Epoch [    2/   30] | train loss: 0.0465 | validation loss: 0.2145 | validation accuracy: 98.8150%\n",
      "Epoch [    3/   30] | train loss: 0.0403 | validation loss: 0.1873 | validation accuracy: 98.9150%\n",
      "Epoch [    4/   30] | train loss: 0.0369 | validation loss: 0.1439 | validation accuracy: 98.8850%\n",
      "Epoch [    5/   30] | train loss: 0.0325 | validation loss: 0.1438 | validation accuracy: 98.9600%\n",
      "Epoch [    6/   30] | train loss: 0.0296 | validation loss: 0.1628 | validation accuracy: 98.7250%\n",
      "Epoch [    7/   30] | train loss: 0.0262 | validation loss: 0.1050 | validation accuracy: 98.9800%\n",
      "Epoch [    8/   30] | train loss: 0.0232 | validation loss: 0.0961 | validation accuracy: 98.9000%\n",
      "Epoch [    9/   30] | train loss: 0.0196 | validation loss: 0.0747 | validation accuracy: 98.7000%\n",
      "Epoch [   10/   30] | train loss: 0.0173 | validation loss: 0.1328 | validation accuracy: 98.5100%\n",
      "Epoch [   11/   30] | train loss: 0.0140 | validation loss: 0.1042 | validation accuracy: 98.2450%\n",
      "Epoch [   12/   30] | train loss: 0.0114 | validation loss: 0.0787 | validation accuracy: 98.8800%\n",
      "Epoch [   13/   30] | train loss: 0.0099 | validation loss: 0.0592 | validation accuracy: 98.7200%\n",
      "Epoch [   14/   30] | train loss: 0.0091 | validation loss: 0.0777 | validation accuracy: 98.7650%\n",
      "Epoch [   15/   30] | train loss: 0.0064 | validation loss: 0.0916 | validation accuracy: 98.2350%\n",
      "Epoch [   16/   30] | train loss: 0.0053 | validation loss: 0.1006 | validation accuracy: 98.2350%\n",
      "Epoch [   17/   30] | train loss: 0.0066 | validation loss: 0.0836 | validation accuracy: 98.3800%\n",
      "Epoch [   18/   30] | train loss: 0.0043 | validation loss: 0.0808 | validation accuracy: 98.4750%\n",
      "Epoch [   19/   30] | train loss: 0.0034 | validation loss: 0.0709 | validation accuracy: 98.6300%\n",
      "Epoch [   20/   30] | train loss: 0.0044 | validation loss: 0.0722 | validation accuracy: 98.4500%\n",
      "Epoch [   21/   30] | train loss: 0.0032 | validation loss: 0.0720 | validation accuracy: 98.7300%\n",
      "Epoch [   22/   30] | train loss: 0.0023 | validation loss: 0.0584 | validation accuracy: 98.7650%\n",
      "Epoch [   23/   30] | train loss: 0.0023 | validation loss: 0.0709 | validation accuracy: 98.6050%\n",
      "Epoch [   24/   30] | train loss: 0.0036 | validation loss: 0.0759 | validation accuracy: 98.5050%\n",
      "Epoch [   25/   30] | train loss: 0.0034 | validation loss: 0.0700 | validation accuracy: 98.5450%\n",
      "Epoch [   26/   30] | train loss: 0.0029 | validation loss: 0.0791 | validation accuracy: 98.4850%\n",
      "Epoch [   27/   30] | train loss: 0.0032 | validation loss: 0.0681 | validation accuracy: 98.4850%\n",
      "Epoch [   28/   30] | train loss: 0.0019 | validation loss: 0.0782 | validation accuracy: 98.5900%\n",
      "Epoch [   29/   30] | train loss: 0.0028 | validation loss: 0.0622 | validation accuracy: 98.8500%\n",
      "Epoch [   30/   30] | train loss: 0.0022 | validation loss: 0.0637 | validation accuracy: 98.7000%\n",
      "Wall time: 13min 3s\n"
     ]
    }
   ],
   "source": [
    "%%time\n",
    "\n",
    "epochs = 30\n",
    "\n",
    "train_losses = []\n",
    "val_losses = []\n",
    "val_accuracies = []\n",
    "\n",
    "val_min = float(\"inf\")\n",
    "\n",
    "for epoch in range(epochs):\n",
    "    model.train()\n",
    "    train_loss = 0\n",
    "    \n",
    "    for batch, labels in trainloader:\n",
    "        # ============================================\n",
    "        #            TRAINING\n",
    "        # ============================================\n",
    "        if (device == \"cuda\"):\n",
    "            batch, labels = batch.to(device), labels.to(device)\n",
    "        # Forward pass\n",
    "        output = model.forward(batch)\n",
    "        # Clear gradients in optimizer\n",
    "        optimizer.zero_grad()\n",
    "        # Calculate loss\n",
    "        if (device == \"cuda\"):\n",
    "            loss = criterion(output, labels.type(torch.cuda.LongTensor).view(labels.shape, 1))\n",
    "        else:\n",
    "            loss = criterion(output, labels.type(torch.LongTensor).view(labels.shape, 1))\n",
    "        train_loss += loss.item()\n",
    "        # Backpropagation\n",
    "        loss.backward()\n",
    "        # Update weights\n",
    "        optimizer.step()\n",
    "    else:\n",
    "        with torch.no_grad():\n",
    "            model.eval()\n",
    "            val_loss = 0\n",
    "            \n",
    "            y_pred = np.array([])\n",
    "            y_true = np.array([])\n",
    "\n",
    "            for batch, labels in val_loader:\n",
    "                # ============================================\n",
    "                #            VALIDATION\n",
    "                # ============================================\n",
    "                if (device == \"cuda\"):\n",
    "                    batch, labels = batch.to(device), labels.to(device)\n",
    "                # Forward pass\n",
    "                log_probs = model.forward(batch)\n",
    "                probs = torch.exp(log_probs)\n",
    "                \n",
    "                top_p, top_class = probs.topk(1, dim=1)\n",
    "                y_pred = np.append(y_pred, cuda_to_numpy(top_class))\n",
    "                y_true = np.append(y_true, cuda_to_numpy(labels))\n",
    "                \n",
    "                # Calculate loss\n",
    "                if (device == \"cuda\"):\n",
    "                    loss = criterion(log_probs, labels.type(torch.cuda.LongTensor).view(labels.shape, 1))\n",
    "                else:\n",
    "                    loss = criterion(log_probs, labels.type(torch.LongTensor).view(labels.shape, 1))\n",
    "                val_loss += loss.item()\n",
    "    \n",
    "    # Print epoch summary\n",
    "    t_loss_avg = train_loss / len(trainloader)\n",
    "    v_loss_avg = val_loss / len(val_loader)\n",
    "    accuracy = accuracy_score(y_true, y_pred)\n",
    "    \n",
    "    if v_loss_avg < val_min:\n",
    "        torch.save(model.state_dict(), \"./artifacts/model.pth\")\n",
    "        val_min = v_loss_avg\n",
    "    \n",
    "    mlflow.log_metric(\"train_loss\", t_loss_avg)\n",
    "    mlflow.log_metric(\"val_loss\", v_loss_avg)\n",
    "    mlflow.log_metric(\"val_accuracy\", accuracy)\n",
    "    \n",
    "    train_losses.append(t_loss_avg)\n",
    "    val_losses.append(v_loss_avg)\n",
    "    val_accuracies.append(accuracy)\n",
    "    \n",
    "    print('Epoch [{:5d}/{:5d}] | train loss: {:6.4f} | validation loss: {:6.4f} | validation accuracy: {:6.4f}%'.format(\n",
    "            epoch+1, epochs, t_loss_avg, v_loss_avg, accuracy * 100))"
   ]
  },
  {
   "cell_type": "code",
   "execution_count": 13,
   "metadata": {},
   "outputs": [
    {
     "data": {
      "text/plain": [
       "<matplotlib.legend.Legend at 0x1d990298898>"
      ]
     },
     "execution_count": 13,
     "metadata": {},
     "output_type": "execute_result"
    },
    {
     "data": {
      "image/png": "[encoded data removed]",
      "text/plain": [
       "<Figure size 432x288 with 1 Axes>"
      ]
     },
     "metadata": {
      "needs_background": "light"
     },
     "output_type": "display_data"
    }
   ],
   "source": [
    "# add learning curve plot\n",
    "train_loss = np.array(train_loss)\n",
    "\n",
    "plt.plot(train_losses, label=\"Training\")\n",
    "plt.plot(val_losses, label=\"Validation\")\n",
    "plt.xlabel(\"Epochs\")\n",
    "plt.ylabel(\"Loss\")\n",
    "plt.title(\"Loss for P-Wave Classification using CNN\")\n",
    "plt.legend()"
   ]
  },
  {
   "cell_type": "code",
   "execution_count": 14,
   "metadata": {},
   "outputs": [
    {
     "data": {
      "text/plain": [
       "Text(0.5, 1.0, 'Validation Accuracy for P-Wave Classification using CNN')"
      ]
     },
     "execution_count": 14,
     "metadata": {},
     "output_type": "execute_result"
    },
    {
     "data": {
      "image/png": "[encoded data removed]",
      "text/plain": [
       "<Figure size 432x288 with 1 Axes>"
      ]
     },
     "metadata": {
      "needs_background": "light"
     },
     "output_type": "display_data"
    }
   ],
   "source": [
    "plt.plot([i * 100 for i in val_accuracies])\n",
    "plt.xlabel(\"Epochs\")\n",
    "plt.ylabel(\"Accuracy(%)\")\n",
    "plt.title(\"Validation Accuracy for P-Wave Classification using CNN\")"
   ]
  },
  {
   "cell_type": "markdown",
   "metadata": {},
   "source": [
    "# 6. Testing Model Performance\n",
    "\n",
    "For testing model performance, we'll be using scikit learn's metrics library. Scikit learn provides a handful of builtin classfication metrics which we can take advantage of. In order to use them with pytorch, we'll have to move the tensors from GPU to CPU and convert them to numpy arrays. \n",
    "\n",
    "1. Classification Report  \n",
    "    a. Precision  \n",
    "    b. Recall  \n",
    "    c. F1 Score\n",
    "2. Accuracy\n",
    "3. AUC-ROC"
   ]
  },
  {
   "cell_type": "code",
   "execution_count": 15,
   "metadata": {
    "scrolled": true
   },
   "outputs": [
    {
     "name": "stdout",
     "output_type": "stream",
     "text": [
      "              precision    recall  f1-score   support\n",
      "\n",
      "       pwave       1.00      0.98      0.99    500000\n",
      "       noise       0.98      1.00      0.99    500000\n",
      "\n",
      "   micro avg       0.99      0.99      0.99   1000000\n",
      "   macro avg       0.99      0.99      0.99   1000000\n",
      "weighted avg       0.99      0.99      0.99   1000000\n",
      "\n",
      "Accuracy: 98.81%\n",
      "ROC Score:  0.9680230463060002\n",
      "Wall time: 2min 24s\n"
     ]
    }
   ],
   "source": [
    "%%time\n",
    "\n",
    "from sklearn.metrics import classification_report\n",
    "from sklearn.metrics import accuracy_score\n",
    "from sklearn.metrics import roc_auc_score\n",
    "\n",
    "model.load_state_dict(torch.load(\"./artifacts/model.pth\"))\n",
    "\n",
    "test_path = \"../test/scsn_p_2000_2017_6sec_0.5r_pick_test_mix.hdf5\"\n",
    "\n",
    "y_true, y_pred, y_probs = test_model(model, test_path, test_size, device=\"cuda\")\n",
    "\n",
    "report = classification_report(y_true, y_pred, target_names=[\"pwave\", \"noise\"])\n",
    "report_dict = classification_report(y_true, y_pred, target_names=[\"pwave\", \"noise\"], output_dict=True)\n",
    "accuracy = accuracy_score(y_true, y_pred)\n",
    "roc_auc_score = roc_auc_score(y_true, y_probs)\n",
    "\n",
    "print(report)\n",
    "print(\"Accuracy: {:.2f}%\".format(accuracy * 100))\n",
    "print(\"ROC Score: \", roc_auc_score)"
   ]
  },
  {
   "cell_type": "code",
   "execution_count": 16,
   "metadata": {},
   "outputs": [],
   "source": [
    "mlflow.log_param(\"epochs\", epochs)\n",
    "mlflow.log_param(\"learning_rate\", lr)\n",
    "mlflow.log_param(\"device\", device)\n",
    "mlflow.log_param(\"train_val_split\", train_ratio)\n",
    "\n",
    "mlflow.log_artifact(\"./artifacts/model.pth\")\n",
    "\n",
    "mlflow.log_metric(\"accuracy\", accuracy)\n",
    "for category in report_dict:\n",
    "    for metric, value in report_dict[category].items():\n",
    "        metric_name = category + \"_\" + metric\n",
    "        mlflow.log_metric(metric_name, value)\n",
    "        \n",
    "mlflow.end_run()"
   ]
  },
  {
   "cell_type": "markdown",
   "metadata": {},
   "source": [
    "# References\n",
    "\n",
    "1. https://agupubs.onlinelibrary.wiley.com/doi/abs/10.1029/2017JB015251\n",
    "2. http://scedc.caltech.edu/research-tools/deeplearning.html#picking_polarity"
   ]
  }
 ],
 "metadata": {
  "kernelspec": {
   "display_name": "Python 3",
   "language": "python",
   "name": "python3"
  },
  "language_info": {
   "codemirror_mode": {
    "name": "ipython",
    "version": 3
   },
   "file_extension": ".py",
   "mimetype": "text/x-python",
   "name": "python",
   "nbconvert_exporter": "python",
   "pygments_lexer": "ipython3",
   "version": "3.7.1"
  }
 },
 "nbformat": 4,
 "nbformat_minor": 2
}
